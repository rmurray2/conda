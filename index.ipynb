{
 "cells": [
  {
   "cell_type": "code",
   "execution_count": 9,
   "metadata": {},
   "outputs": [
    {
     "name": "stdout",
     "output_type": "stream",
     "text": [
      "[ 0 90  5  0  0  0  0  0  0  4 17]\n"
     ]
    }
   ],
   "source": [
    "import datetime\n",
    "import numpy as np\n",
    "\n",
    "'''\n",
    "\n",
    "Buckle up, we're going to find all possible consecutive palindromic date sequences of any length given the \n",
    "date format m/d/y, in which month and day are non-zero-padded and the year is two digits and zero-padded!\n",
    "\n",
    "'''\n",
    "\n",
    "\n",
    "def is_palandrome(text): \n",
    "    ''' \n",
    "    returns True if date (as text containing slashes) variable is a palindrome \n",
    "    and False if it is not\n",
    "    '''\n",
    "    \n",
    "    #remove slash from date\n",
    "    st = text.replace('/', '') \n",
    "    rt = st[::-1] \n",
    "    if st == rt: \n",
    "        return True \n",
    "    else: \n",
    "        return False \n",
    "   \n",
    "\n",
    "#templist will hold consecutive palindromic dates and be reset when encountering a non-palindromic\n",
    "#overlist will hold templists \n",
    "templist, overlist = [], []\n",
    "\n",
    "#initialize the first day of the loop, January 1st of the zero-th year\n",
    "d = datetime.datetime.strptime(\"01/01/00\",\"%m/%d/%y\").strftime('%-m/%-d/%y')\n",
    "\n",
    "#the loop adds one day each time through the loop, starting from the first day of the first year\n",
    "#stop condition of while loop is the last day of 99th year\n",
    "while d != '12/31/99': \n",
    "    \n",
    "    #convert text date to datetime object\n",
    "    dto = datetime.datetime.strptime(d,\"%m/%d/%y\") \n",
    "    \n",
    "    #add one day\n",
    "    dto += datetime.timedelta(days=1) \n",
    "\n",
    "    #convert datetime object to string with non-zero-padded month and day\n",
    "    d = dto.strftime('%-m/%-d/%y') \n",
    "    \n",
    "    #check if the string is a palindrome\n",
    "    palandrome = is_palandrome(d)\n",
    "    \n",
    "    if palandrome == False: \n",
    "        #if it's not a palindrome and if templist has more than one date, then terminate the list\n",
    "        #of consecutive palindromic dates and add it to overlist\n",
    "        if len(templist) > 0:  \n",
    "            overlist.append(templist) \n",
    "            templist = []  \n",
    "        \n",
    "    else: \n",
    "        #if it is a palindrome, add it to the list of consecutive palindromic days\n",
    "        templist.append(d) \n",
    "        \n",
    "\n",
    "#we see for example that there are 90 examples of palindromic days of length 1. \n",
    "#4 examples of a consecutive palindromic sequence of length 9\n",
    "#and 17 examples of length 10\n",
    "#the index position of the output of this cell corresponds to the number of consecutive palindromic days\n",
    "#and the value in that position means there are that many examples in history. \n",
    "print (np.bincount([len(i) for i in overlist]))\n",
    "\n"
   ]
  },
  {
   "cell_type": "code",
   "execution_count": 10,
   "metadata": {},
   "outputs": [
    {
     "name": "stdout",
     "output_type": "stream",
     "text": [
      "all examples where the number of consecutive palindromic days is 10\n",
      "['1/10/11', '1/11/11', '1/12/11', '1/13/11', '1/14/11', '1/15/11', '1/16/11', '1/17/11', '1/18/11', '1/19/11']\n",
      "['2/10/12', '2/11/12', '2/12/12', '2/13/12', '2/14/12', '2/15/12', '2/16/12', '2/17/12', '2/18/12', '2/19/12']\n",
      "['3/10/13', '3/11/13', '3/12/13', '3/13/13', '3/14/13', '3/15/13', '3/16/13', '3/17/13', '3/18/13', '3/19/13']\n",
      "['4/10/14', '4/11/14', '4/12/14', '4/13/14', '4/14/14', '4/15/14', '4/16/14', '4/17/14', '4/18/14', '4/19/14']\n",
      "['5/10/15', '5/11/15', '5/12/15', '5/13/15', '5/14/15', '5/15/15', '5/16/15', '5/17/15', '5/18/15', '5/19/15']\n",
      "['6/10/16', '6/11/16', '6/12/16', '6/13/16', '6/14/16', '6/15/16', '6/16/16', '6/17/16', '6/18/16', '6/19/16']\n",
      "['7/10/17', '7/11/17', '7/12/17', '7/13/17', '7/14/17', '7/15/17', '7/16/17', '7/17/17', '7/18/17', '7/19/17']\n",
      "['8/10/18', '8/11/18', '8/12/18', '8/13/18', '8/14/18', '8/15/18', '8/16/18', '8/17/18', '8/18/18', '8/19/18']\n",
      "['9/10/19', '9/11/19', '9/12/19', '9/13/19', '9/14/19', '9/15/19', '9/16/19', '9/17/19', '9/18/19', '9/19/19']\n",
      "['1/20/21', '1/21/21', '1/22/21', '1/23/21', '1/24/21', '1/25/21', '1/26/21', '1/27/21', '1/28/21', '1/29/21']\n",
      "['3/20/23', '3/21/23', '3/22/23', '3/23/23', '3/24/23', '3/25/23', '3/26/23', '3/27/23', '3/28/23', '3/29/23']\n",
      "['4/20/24', '4/21/24', '4/22/24', '4/23/24', '4/24/24', '4/25/24', '4/26/24', '4/27/24', '4/28/24', '4/29/24']\n",
      "['5/20/25', '5/21/25', '5/22/25', '5/23/25', '5/24/25', '5/25/25', '5/26/25', '5/27/25', '5/28/25', '5/29/25']\n",
      "['6/20/26', '6/21/26', '6/22/26', '6/23/26', '6/24/26', '6/25/26', '6/26/26', '6/27/26', '6/28/26', '6/29/26']\n",
      "['7/20/27', '7/21/27', '7/22/27', '7/23/27', '7/24/27', '7/25/27', '7/26/27', '7/27/27', '7/28/27', '7/29/27']\n",
      "['8/20/28', '8/21/28', '8/22/28', '8/23/28', '8/24/28', '8/25/28', '8/26/28', '8/27/28', '8/28/28', '8/29/28']\n",
      "['9/20/29', '9/21/29', '9/22/29', '9/23/29', '9/24/29', '9/25/29', '9/26/29', '9/27/29', '9/28/29', '9/29/29']\n",
      "\n",
      "all examples where the number of consecutive palindromic days is 9\n",
      "['10/1/01', '10/2/01', '10/3/01', '10/4/01', '10/5/01', '10/6/01', '10/7/01', '10/8/01', '10/9/01']\n",
      "['11/1/11', '11/2/11', '11/3/11', '11/4/11', '11/5/11', '11/6/11', '11/7/11', '11/8/11', '11/9/11']\n",
      "['12/1/21', '12/2/21', '12/3/21', '12/4/21', '12/5/21', '12/6/21', '12/7/21', '12/8/21', '12/9/21']\n",
      "['2/20/22', '2/21/22', '2/22/22', '2/23/22', '2/24/22', '2/25/22', '2/26/22', '2/27/22', '2/28/22']\n"
     ]
    }
   ],
   "source": [
    "print (\"all examples where the number of consecutive palindromic days is 10\")\n",
    "\n",
    "for i in overlist:\n",
    "    if len(i) == 10: \n",
    "        print (i) \n",
    "        \n",
    "print (\"\")\n",
    "print (\"all examples where the number of consecutive palindromic days is 9\")\n",
    "\n",
    "for i in overlist:\n",
    "    if len(i) == 9: \n",
    "        print (i) "
   ]
  },
  {
   "cell_type": "code",
   "execution_count": null,
   "metadata": {},
   "outputs": [],
   "source": [
    "'''\n",
    "\n",
    "So at the time of writing (Jan 25, 2021), we are currently in a consecutive palindromic sequence of length 10!\n",
    "\n",
    "The next one of length 10 starts on 3/20/23\n",
    "\n",
    "If you don't want to wait that long, we've got one of length 9 starting on 12/1/21 \n",
    "\n",
    "\n",
    "'''"
   ]
  }
 ],
 "metadata": {
  "kernelspec": {
   "display_name": "Python 3",
   "language": "python",
   "name": "python3"
  },
  "language_info": {
   "codemirror_mode": {
    "name": "ipython",
    "version": 3
   },
   "file_extension": ".py",
   "mimetype": "text/x-python",
   "name": "python",
   "nbconvert_exporter": "python",
   "pygments_lexer": "ipython3",
   "version": "3.8.3"
  }
 },
 "nbformat": 4,
 "nbformat_minor": 2
}
